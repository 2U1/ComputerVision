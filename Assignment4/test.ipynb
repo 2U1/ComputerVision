{
 "cells": [
  {
   "cell_type": "code",
   "execution_count": 7,
   "metadata": {},
   "outputs": [],
   "source": [
    "import cv2\n",
    "import matplotlib.pyplot as plt\n",
    "import numpy as np"
   ]
  },
  {
   "cell_type": "code",
   "execution_count": 13,
   "metadata": {},
   "outputs": [],
   "source": [
    "bf = cv2.BFMatcher()\n",
    "\n",
    "img_1 = cv2.imread('./images/image1.png')\n",
    "img1 = cv2.cvtColor(img_1,cv2.COLOR_BGR2GRAY)\n",
    "\n",
    "img_2 = cv2.imread('./images/image2.png')\n",
    "img2 = cv2.cvtColor(img_2,cv2.COLOR_BGR2GRAY)\n",
    "\n",
    "#sift = cv2.xfeatures2d.SIFT_create()\n",
    " \n",
    "orb = cv2.ORB_create(\n",
    "    nfeatures=10000,\n",
    "    scaleFactor=1.2,\n",
    "    nlevels=8,\n",
    "    edgeThreshold=31,\n",
    "    firstLevel=0,\n",
    "    WTA_K=2,\n",
    "    scoreType=cv2.ORB_HARRIS_SCORE,\n",
    "    patchSize=31,\n",
    "    fastThreshold=20,\n",
    ")\n",
    "\n",
    "kp1, des1 = orb.detectAndCompute(img1,None)\n",
    "kp2, des2 = orb.detectAndCompute(img2,None)\n",
    "matches = bf.knnMatch(des1,des2, k=2)\n",
    "\n",
    "good = []\n",
    "for m in matches:\n",
    "    if (m[0].distance < 0.5*m[1].distance):\n",
    "        good.append(m)\n",
    "matches = np.asarray(good)\n",
    "\n",
    "if (len(matches[:,0]) >= 5):\n",
    "    src = np.float32([ kp1[m.queryIdx].pt for m in matches[:,0] ]).reshape(-1,1,2)\n",
    "    dst = np.float32([ kp2[m.trainIdx].pt for m in matches[:,0] ]).reshape(-1,1,2)\n",
    "    H, masked = cv2.findHomography(src, dst, cv2.RANSAC, 5.0)\n",
    "\n",
    "    dst = cv2.warpPerspective(img_1,H,((img_1.shape[1] + img_2.shape[1]), img_2.shape[0])) #wraped image\n",
    "    dst[0:img_2.shape[0], 0:img_2.shape[1]] = img_2 #stitched image\n",
    "    # crop_img = dst[0:2400, 100:2100]\n",
    "    dst_gray = cv2.cvtColor(dst, cv2.COLOR_BGR2GRAY)\n",
    "    _, thresholded = cv2.threshold(dst_gray, 0, 255, cv2.THRESH_OTSU)\n",
    "    \n",
    "    bbox = cv2.boundingRect(thresholded)\n",
    "    x,y,w,h = bbox\n",
    "    \n",
    "    dst = dst[y:y+h, x:x+w]\n",
    "    cv2.imwrite('output1.png',dst)"
   ]
  },
  {
   "cell_type": "code",
   "execution_count": 14,
   "metadata": {},
   "outputs": [
    {
     "name": "stdout",
     "output_type": "stream",
     "text": [
      "1\n",
      "2\n",
      "3\n",
      "4\n",
      "5\n",
      "6\n"
     ]
    },
    {
     "ename": "IndexError",
     "evalue": "too many indices for array: array is 1-dimensional, but 2 were indexed",
     "output_type": "error",
     "traceback": [
      "\u001b[0;31m---------------------------------------------------------------------------\u001b[0m",
      "\u001b[0;31mIndexError\u001b[0m                                Traceback (most recent call last)",
      "\u001b[1;32m/home/yuwon/PythonProject/CV/Assignment4/test.ipynb Cell 3'\u001b[0m in \u001b[0;36m<cell line: 8>\u001b[0;34m()\u001b[0m\n\u001b[1;32m     <a href='vscode-notebook-cell://wsl%2Bubuntu/home/yuwon/PythonProject/CV/Assignment4/test.ipynb#ch0000006vscode-remote?line=36'>37</a>\u001b[0m         good\u001b[39m.\u001b[39mappend(m)\n\u001b[1;32m     <a href='vscode-notebook-cell://wsl%2Bubuntu/home/yuwon/PythonProject/CV/Assignment4/test.ipynb#ch0000006vscode-remote?line=37'>38</a>\u001b[0m matches \u001b[39m=\u001b[39m np\u001b[39m.\u001b[39masarray(good)\n\u001b[0;32m---> <a href='vscode-notebook-cell://wsl%2Bubuntu/home/yuwon/PythonProject/CV/Assignment4/test.ipynb#ch0000006vscode-remote?line=39'>40</a>\u001b[0m \u001b[39mif\u001b[39;00m (\u001b[39mlen\u001b[39m(matches[:,\u001b[39m0\u001b[39;49m]) \u001b[39m>\u001b[39m\u001b[39m=\u001b[39m \u001b[39m4\u001b[39m):\n\u001b[1;32m     <a href='vscode-notebook-cell://wsl%2Bubuntu/home/yuwon/PythonProject/CV/Assignment4/test.ipynb#ch0000006vscode-remote?line=40'>41</a>\u001b[0m     src \u001b[39m=\u001b[39m np\u001b[39m.\u001b[39mfloat32([ kp1[m\u001b[39m.\u001b[39mqueryIdx]\u001b[39m.\u001b[39mpt \u001b[39mfor\u001b[39;00m m \u001b[39min\u001b[39;00m matches[:,\u001b[39m0\u001b[39m] ])\u001b[39m.\u001b[39mreshape(\u001b[39m-\u001b[39m\u001b[39m1\u001b[39m,\u001b[39m1\u001b[39m,\u001b[39m2\u001b[39m)\n\u001b[1;32m     <a href='vscode-notebook-cell://wsl%2Bubuntu/home/yuwon/PythonProject/CV/Assignment4/test.ipynb#ch0000006vscode-remote?line=41'>42</a>\u001b[0m     dst \u001b[39m=\u001b[39m np\u001b[39m.\u001b[39mfloat32([ kp2[m\u001b[39m.\u001b[39mtrainIdx]\u001b[39m.\u001b[39mpt \u001b[39mfor\u001b[39;00m m \u001b[39min\u001b[39;00m matches[:,\u001b[39m0\u001b[39m] ])\u001b[39m.\u001b[39mreshape(\u001b[39m-\u001b[39m\u001b[39m1\u001b[39m,\u001b[39m1\u001b[39m,\u001b[39m2\u001b[39m)\n",
      "\u001b[0;31mIndexError\u001b[0m: too many indices for array: array is 1-dimensional, but 2 were indexed"
     ]
    }
   ],
   "source": [
    "images = []\n",
    "bf = cv2.BFMatcher()\n",
    "'''\n",
    "for i in range(1,19):\n",
    "    image = cv2.imread('/home/yuwon/PythonProject/CV/Assignment4/images/image' + str(i) + '.png')\n",
    "    images.append(image)\n",
    "'''\n",
    "for i in range(1,18):\n",
    "\n",
    "    img_1 = cv2.imread('./images/image' + str(i) + '.png')\n",
    "    img1 = cv2.cvtColor(img_1,cv2.COLOR_BGR2GRAY)\n",
    "\n",
    "    img_2 = cv2.imread('output' + str(i) + '.png')\n",
    "    print(i)\n",
    "    img2 = cv2.cvtColor(img_2,cv2.COLOR_BGR2GRAY)\n",
    "    \n",
    "    #sift = cv2.xfeatures2d.SIFT_create()\n",
    "    orb = cv2.ORB_create(\n",
    "    nfeatures=10000,\n",
    "    scaleFactor=1.2,\n",
    "    nlevels=8,\n",
    "    edgeThreshold=31,\n",
    "    firstLevel=0,\n",
    "    WTA_K=2,\n",
    "    scoreType=cv2.ORB_HARRIS_SCORE,\n",
    "    patchSize=31,\n",
    "    fastThreshold=20,\n",
    "    )\n",
    "\n",
    "    kp1, des1 = orb.detectAndCompute(img1,None)\n",
    "    kp2, des2 = orb.detectAndCompute(img2,None)\n",
    "    matches = bf.knnMatch(des1,des2, k=2)\n",
    "\n",
    "    good = []\n",
    "    for m in matches:\n",
    "        if (m[0].distance < 0.5*m[1].distance):\n",
    "            good.append(m)\n",
    "    matches = np.asarray(good)\n",
    "\n",
    "    if (len(matches[:,0]) >= 4):\n",
    "        src = np.float32([ kp1[m.queryIdx].pt for m in matches[:,0] ]).reshape(-1,1,2)\n",
    "        dst = np.float32([ kp2[m.trainIdx].pt for m in matches[:,0] ]).reshape(-1,1,2)\n",
    "        H, masked = cv2.findHomography(src, dst, cv2.RANSAC, 5.0)\n",
    "\n",
    "    dst = cv2.warpPerspective(img_1,H,((img_1.shape[1] + img_2.shape[1]), img_2.shape[0])) #wraped image\n",
    "    dst[0:img_2.shape[0], 0:img_2.shape[1]] = img_2 #stitched image\n",
    "    # dst_gray = cv2.cvtColor(dst, cv2.COLOR_BGR2GRAY)\n",
    "    # _, thresholded = cv2.threshold(dst_gray, 0, 255, cv2.THRESH_OTSU)\n",
    "    \n",
    "    # bbox = cv2.boundingRect(thresholded)\n",
    "    # x,y,w,h = bbox\n",
    "    \n",
    "    # dst = dst[y:y+h, x:x+w]\n",
    "    cv2.imwrite('output' + str(i+1) +'.png',dst)"
   ]
  }
 ],
 "metadata": {
  "interpreter": {
   "hash": "fe294e6606534daba89c1dc14d4f5ef002211ec8430f3955bebe6e14ba2710b8"
  },
  "kernelspec": {
   "display_name": "Python 3.9.12 ('DL')",
   "language": "python",
   "name": "python3"
  },
  "language_info": {
   "codemirror_mode": {
    "name": "ipython",
    "version": 3
   },
   "file_extension": ".py",
   "mimetype": "text/x-python",
   "name": "python",
   "nbconvert_exporter": "python",
   "pygments_lexer": "ipython3",
   "version": "3.9.12"
  },
  "orig_nbformat": 4
 },
 "nbformat": 4,
 "nbformat_minor": 2
}
