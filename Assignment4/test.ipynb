{
 "cells": [
  {
   "cell_type": "code",
   "execution_count": 13,
   "metadata": {},
   "outputs": [],
   "source": [
    "import cv2\n",
    "import matplotlib.pyplot as plt\n",
    "import numpy as np"
   ]
  },
  {
   "cell_type": "code",
   "execution_count": 26,
   "metadata": {},
   "outputs": [],
   "source": [
    "bf = cv2.BFMatcher()\n",
    "\n",
    "img_1 = image = cv2.imread('/home/yuwon/PythonProject/CV/Assignment4/images/image1.png')\n",
    "img1 = cv2.cvtColor(img_1,cv2.COLOR_BGR2GRAY)\n",
    "\n",
    "img_2 = image = cv2.imread('/home/yuwon/PythonProject/CV/Assignment4/images/image2.png')\n",
    "img2 = cv2.cvtColor(img_2,cv2.COLOR_BGR2GRAY)\n",
    "\n",
    "sift = cv2.xfeatures2d.SIFT_create()\n",
    "kp1, des1 = sift.detectAndCompute(img1,None)\n",
    "kp2, des2 = sift.detectAndCompute(img2,None)\n",
    "matches = bf.knnMatch(des1,des2, k=2)\n",
    "\n",
    "good = []\n",
    "for m in matches:\n",
    "    if (m[0].distance < 0.5*m[1].distance):\n",
    "        good.append(m)\n",
    "matches = np.asarray(good)\n",
    "\n",
    "if (len(matches[:,0]) >= 4):\n",
    "    src = np.float32([ kp1[m.queryIdx].pt for m in matches[:,0] ]).reshape(-1,1,2)\n",
    "    dst = np.float32([ kp2[m.trainIdx].pt for m in matches[:,0] ]).reshape(-1,1,2)\n",
    "    H, masked = cv2.findHomography(src, dst, cv2.RANSAC, 5.0)\n",
    "\n",
    "    dst = cv2.warpPerspective(img_1,H,((img_1.shape[1] + img_2.shape[1]), img_2.shape[0])) #wraped image\n",
    "    dst[0:img_2.shape[0], 0:img_2.shape[1]] = img_2 #stitched image\n",
    "    cv2.imwrite('output1.png',dst)"
   ]
  },
  {
   "cell_type": "code",
   "execution_count": 28,
   "metadata": {},
   "outputs": [
    {
     "name": "stderr",
     "output_type": "stream",
     "text": [
      "[ WARN:0@2029.820] global /io/opencv/modules/imgcodecs/src/loadsave.cpp (239) findDecoder imread_('/home/yuwon/PythonProject/CV/Assignment4/output2.png'): can't open/read file: check file path/integrity\n"
     ]
    },
    {
     "ename": "error",
     "evalue": "OpenCV(4.5.5) /io/opencv/modules/imgproc/src/color.cpp:182: error: (-215:Assertion failed) !_src.empty() in function 'cvtColor'\n",
     "output_type": "error",
     "traceback": [
      "\u001b[0;31m---------------------------------------------------------------------------\u001b[0m",
      "\u001b[0;31merror\u001b[0m                                     Traceback (most recent call last)",
      "\u001b[1;32m/home/yuwon/PythonProject/CV/Assignment4/test.ipynb Cell 3'\u001b[0m in \u001b[0;36m<cell line: 8>\u001b[0;34m()\u001b[0m\n\u001b[1;32m     <a href='vscode-notebook-cell://wsl%2Bubuntu/home/yuwon/PythonProject/CV/Assignment4/test.ipynb#ch0000001vscode-remote?line=10'>11</a>\u001b[0m img1 \u001b[39m=\u001b[39m cv2\u001b[39m.\u001b[39mcvtColor(img_1,cv2\u001b[39m.\u001b[39mCOLOR_BGR2GRAY)\n\u001b[1;32m     <a href='vscode-notebook-cell://wsl%2Bubuntu/home/yuwon/PythonProject/CV/Assignment4/test.ipynb#ch0000001vscode-remote?line=12'>13</a>\u001b[0m img_2 \u001b[39m=\u001b[39m cv2\u001b[39m.\u001b[39mimread(\u001b[39m'\u001b[39m\u001b[39m/home/yuwon/PythonProject/CV/Assignment4/output\u001b[39m\u001b[39m'\u001b[39m \u001b[39m+\u001b[39m \u001b[39mstr\u001b[39m(i) \u001b[39m+\u001b[39m \u001b[39m'\u001b[39m\u001b[39m.png\u001b[39m\u001b[39m'\u001b[39m)\n\u001b[0;32m---> <a href='vscode-notebook-cell://wsl%2Bubuntu/home/yuwon/PythonProject/CV/Assignment4/test.ipynb#ch0000001vscode-remote?line=13'>14</a>\u001b[0m img2 \u001b[39m=\u001b[39m cv2\u001b[39m.\u001b[39;49mcvtColor(img_2,cv2\u001b[39m.\u001b[39;49mCOLOR_BGR2GRAY)\n\u001b[1;32m     <a href='vscode-notebook-cell://wsl%2Bubuntu/home/yuwon/PythonProject/CV/Assignment4/test.ipynb#ch0000001vscode-remote?line=15'>16</a>\u001b[0m sift \u001b[39m=\u001b[39m cv2\u001b[39m.\u001b[39mxfeatures2d\u001b[39m.\u001b[39mSIFT_create()\n\u001b[1;32m     <a href='vscode-notebook-cell://wsl%2Bubuntu/home/yuwon/PythonProject/CV/Assignment4/test.ipynb#ch0000001vscode-remote?line=16'>17</a>\u001b[0m kp1, des1 \u001b[39m=\u001b[39m sift\u001b[39m.\u001b[39mdetectAndCompute(img1,\u001b[39mNone\u001b[39;00m)\n",
      "\u001b[0;31merror\u001b[0m: OpenCV(4.5.5) /io/opencv/modules/imgproc/src/color.cpp:182: error: (-215:Assertion failed) !_src.empty() in function 'cvtColor'\n"
     ]
    }
   ],
   "source": [
    "images = []\n",
    "bf = cv2.BFMatcher()\n",
    "'''\n",
    "for i in range(1,19):\n",
    "    image = cv2.imread('/home/yuwon/PythonProject/CV/Assignment4/images/image' + str(i) + '.png')\n",
    "    images.append(image)\n",
    "'''\n",
    "for i in range(1,18):\n",
    "\n",
    "    img_1 = cv2.imread('/home/yuwon/PythonProject/CV/Assignment4/images/image' + str(i) + '.png')\n",
    "    img1 = cv2.cvtColor(img_1,cv2.COLOR_BGR2GRAY)\n",
    "\n",
    "    img_2 = cv2.imread('/home/yuwon/PythonProject/CV/Assignment4/output' + str(i) + '.png')\n",
    "    img2 = cv2.cvtColor(img_2,cv2.COLOR_BGR2GRAY)\n",
    "    \n",
    "    sift = cv2.xfeatures2d.SIFT_create()\n",
    "    kp1, des1 = sift.detectAndCompute(img1,None)\n",
    "    kp2, des2 = sift.detectAndCompute(img2,None)\n",
    "    matches = bf.knnMatch(des1,des2, k=2)\n",
    "\n",
    "    good = []\n",
    "    for m in matches:\n",
    "        if (m[0].distance < 0.5*m[1].distance):\n",
    "            good.append(m)\n",
    "    matches = np.asarray(good)\n",
    "\n",
    "    if (len(matches[:,0]) >= 4):\n",
    "        src = np.float32([ kp1[m.queryIdx].pt for m in matches[:,0] ]).reshape(-1,1,2)\n",
    "        dst = np.float32([ kp2[m.trainIdx].pt for m in matches[:,0] ]).reshape(-1,1,2)\n",
    "        H, masked = cv2.findHomography(src, dst, cv2.RANSAC, 5.0)\n",
    "\n",
    "    dst = cv2.warpPerspective(img_1,H,((img_1.shape[1] + img_2.shape[1]), img_2.shape[0])) #wraped image\n",
    "    dst[0:img_2.shape[0], 0:img_2.shape[1]] = img_2 #stitched image\n",
    "    cv2.imwrite('output' + str(i) +'.png',dst)"
   ]
  }
 ],
 "metadata": {
  "interpreter": {
   "hash": "fe294e6606534daba89c1dc14d4f5ef002211ec8430f3955bebe6e14ba2710b8"
  },
  "kernelspec": {
   "display_name": "Python 3.9.12 ('DL')",
   "language": "python",
   "name": "python3"
  },
  "language_info": {
   "codemirror_mode": {
    "name": "ipython",
    "version": 3
   },
   "file_extension": ".py",
   "mimetype": "text/x-python",
   "name": "python",
   "nbconvert_exporter": "python",
   "pygments_lexer": "ipython3",
   "version": "3.9.12"
  },
  "orig_nbformat": 4
 },
 "nbformat": 4,
 "nbformat_minor": 2
}
