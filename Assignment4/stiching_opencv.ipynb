{
 "cells": [
  {
   "cell_type": "code",
   "execution_count": 2,
   "metadata": {},
   "outputs": [],
   "source": [
    "import matplotlib as mpl\n",
    "import matplotlib.pyplot as plt\n",
    "import time\n",
    "import numpy as np\n",
    "import cv2"
   ]
  },
  {
   "cell_type": "code",
   "execution_count": 9,
   "metadata": {},
   "outputs": [],
   "source": [
    "bf = cv2.BFMatcher()\n",
    "\n",
    "img_1 = cv2.imread('./outputs/output01-04.png')\n",
    "img1 = cv2.cvtColor(img_1,cv2.COLOR_BGR2GRAY)\n",
    "\n",
    "img_2 = cv2.imread('./outputs/output05-08.png')\n",
    "img2 = cv2.cvtColor(img_2,cv2.COLOR_BGR2GRAY)\n",
    "\n",
    "#sift = cv2.xfeatures2d.SIFT_create()\n",
    " \n",
    "orb = cv2.ORB_create(\n",
    "    nfeatures=10000,\n",
    "    scaleFactor=1.2,\n",
    "    nlevels=8,\n",
    "    edgeThreshold=31,\n",
    "    firstLevel=0,\n",
    "    WTA_K=2,\n",
    "    scoreType=cv2.ORB_HARRIS_SCORE,\n",
    "    patchSize=31,\n",
    "    fastThreshold=20,\n",
    ")\n",
    "\n",
    "kp1, des1 = orb.detectAndCompute(img1,None)\n",
    "kp2, des2 = orb.detectAndCompute(img2,None)\n",
    "matches = bf.knnMatch(des1,des2, k=2)\n",
    "\n",
    "good = []\n",
    "for m in matches:\n",
    "    if (m[0].distance < 0.7*m[1].distance):\n",
    "        good.append(m)\n",
    "matches = np.asarray(good)\n",
    "\n",
    "if (len(matches[:,0]) >= 5):\n",
    "    src = np.float32([ kp1[m.queryIdx].pt for m in matches[:,0] ]).reshape(-1,1,2)\n",
    "    dst = np.float32([ kp2[m.trainIdx].pt for m in matches[:,0] ]).reshape(-1,1,2)\n",
    "    H, masked = cv2.findHomography(src, dst, cv2.RANSAC, 5.0)\n",
    "\n",
    "    dst = cv2.warpPerspective(img_1,H,((img_1.shape[1] + img_2.shape[1]), img_2.shape[0])) #wraped image\n",
    "    dst[0:img_2.shape[0], 0:img_2.shape[1]] = img_2 #stitched image\n",
    "    \n",
    "    dst_gray = cv2.cvtColor(dst, cv2.COLOR_BGR2GRAY)\n",
    "    _, thresholded = cv2.threshold(dst_gray, 0, 255, cv2.THRESH_OTSU)\n",
    "    \n",
    "    bbox = cv2.boundingRect(thresholded)\n",
    "    x,y,w,h = bbox\n",
    "    \n",
    "    dst = dst[y:y+h, x:x+w]\n",
    "\n",
    "    cv2.imwrite('output01-08.png',dst)"
   ]
  }
 ],
 "metadata": {
  "interpreter": {
   "hash": "fe294e6606534daba89c1dc14d4f5ef002211ec8430f3955bebe6e14ba2710b8"
  },
  "kernelspec": {
   "display_name": "Python 3.9.12 ('DL')",
   "language": "python",
   "name": "python3"
  },
  "language_info": {
   "codemirror_mode": {
    "name": "ipython",
    "version": 3
   },
   "file_extension": ".py",
   "mimetype": "text/x-python",
   "name": "python",
   "nbconvert_exporter": "python",
   "pygments_lexer": "ipython3",
   "version": "3.9.12"
  },
  "orig_nbformat": 4
 },
 "nbformat": 4,
 "nbformat_minor": 2
}
