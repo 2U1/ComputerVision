{
 "cells": [
  {
   "cell_type": "code",
   "execution_count": 1,
   "metadata": {},
   "outputs": [],
   "source": [
    "import matplotlib as mpl\n",
    "import matplotlib.pyplot as plt\n",
    "import time\n",
    "import numpy as np\n",
    "import cv2"
   ]
  },
  {
   "cell_type": "code",
   "execution_count": 2,
   "metadata": {},
   "outputs": [],
   "source": [
    "def scale(img, nR, nC):\n",
    "    height = img.shape[0]     # source number of rows \n",
    "    width = img.shape[1]  # source number of columns \n",
    "    return np.array([[img[int(height * r / nR)][int(width * c / nC)]  for c in range(nC)] for r in range(nR)])"
   ]
  },
  {
   "cell_type": "code",
   "execution_count": 3,
   "metadata": {},
   "outputs": [],
   "source": [
    "def gaussian2d(x,y,sigma):\n",
    "    \"\"\"Function for calculating the 2-dimensional gaussian\"\"\"\n",
    "    x2 = x**2\n",
    "    y2 = y**2\n",
    "    sigma2 = sigma**2\n",
    "    # Return the value of 2-dimensional gaussian value with the given point x, y\n",
    "    return (1/(2*np.pi*sigma2))*np.exp(-1*((x2+y2)/(2*sigma2)))"
   ]
  },
  {
   "cell_type": "code",
   "execution_count": 4,
   "metadata": {},
   "outputs": [],
   "source": [
    "def get_gaussian_kernel(size, sigma=None):\n",
    "    \"\"\"\n",
    "    Getting the gaussian kernel\n",
    "    The effcient size for the gaussian kernel is the smallest odd number that is larger than 6*sigma     \n",
    "    \"\"\"\n",
    "    # Calculating the best sigma for the given size\n",
    "    if sigma == None:\n",
    "        sigma = 0.3 * (size // 2) + 0.8\n",
    "    # Getting the range of x, y\n",
    "    aran = np.arange(-1 * (size // 2), size // 2 + 1)\n",
    "    XX, YY = np.meshgrid(aran, aran)\n",
    "    # making the kernel\n",
    "    kernel = gaussian2d(XX, YY, sigma)\n",
    "    #normaliing\n",
    "    kernel = kernel/np.sum(kernel)\n",
    "    return kernel"
   ]
  },
  {
   "cell_type": "code",
   "execution_count": 5,
   "metadata": {},
   "outputs": [],
   "source": [
    "def filter(weights,roi):\n",
    "    weights = weights.astype('float')\n",
    "    roi = roi.astype('float')\n",
    "    # this holds the end result\n",
    "    filtered = np.zeros_like(roi)\n",
    "    width = int((weights.shape[1]-1)/2)\n",
    "    height = int((weights.shape[0]-1)/2)\n",
    "\n",
    "    # convolution\n",
    "    for i in range(height,roi.shape[1]-height):\n",
    "        for j in range(width,roi.shape[0]-width):\n",
    "            filtered[j,i]= np.sum(weights * roi[j-width:j+width+1, i-height:i+height+1])\n",
    "    \n",
    "    return filtered"
   ]
  },
  {
   "cell_type": "code",
   "execution_count": 17,
   "metadata": {},
   "outputs": [],
   "source": [
    "def getFeaturePoints(img, winSize=7, threshold=0.25):\n",
    "    h, w = img.shape[:2]\n",
    "    # Doing the derivatives\n",
    "    filter_sobelx = np.array([\n",
    "    [-1, 0, 1],\n",
    "    [-2, 0, 2],\n",
    "    [-1, 0, 1]\n",
    "    ])\n",
    "    I_x=filter(filter_sobelx, img)\n",
    "\n",
    "    filter_sobely = np.array([\n",
    "        [1, 2, 1],\n",
    "        [0, 0, 0],\n",
    "        [-1, -2, -1]\n",
    "    ])\n",
    "    I_y=filter(filter_sobely, img)\n",
    "\n",
    "    g_kernel = get_gaussian_kernel(winSize)\n",
    "\n",
    "    # Making the matrix H for each pixel\n",
    "    H = np.zeros((h,w,2,2))\n",
    "    H[:, :, 0, 0] = filter(g_kernel, np.square(I_x))\n",
    "    H[:, :, 0, 1] = filter(g_kernel, I_x*I_y)\n",
    "    H[:, :, 1, 0] = filter(g_kernel, I_x*I_y)\n",
    "    H[:, :, 1, 1] = filter(g_kernel, np.square(I_y))\n",
    "\n",
    "    # Making a matrix for holding the values for corner_strength\n",
    "    corner_strength = np.zeros((h,w))\n",
    "\n",
    "    coords = []\n",
    "\n",
    "    # usually the value 0.04 is the optimal value\n",
    "    k = 0.04\n",
    "    for idx_h in range(h):\n",
    "        for idx_w in range(w):\n",
    "            det = np.linalg.det(H[idx_h, idx_w, :, :])\n",
    "            tr = np.trace(H[idx_h, idx_w, :, :])\n",
    "            harris = det - (k*(tr**2))\n",
    "            corner_strength[idx_h][idx_w] = harris\n",
    "\n",
    "            if harris >= threshold:\n",
    "                coords.append((idx_h, idx_w))\n",
    "\n",
    "    coords = list(set(coords))\n",
    "\n",
    "    print('='*20,\"Plotting\",'='*20)\n",
    "    \n",
    "    fig, ax = plt.subplots()\n",
    "\n",
    "    ax.imshow(img,cmap=\"gray\")\n",
    "    \n",
    "    # Plotting the circle\n",
    "    for blob in coords:\n",
    "        y, x = blob\n",
    "        c = plt.Circle((x, y), 2, linewidth=1.5 ,color='red', fill=False)\n",
    "        ax.add_patch(c)\n",
    "    ax.plot()  \n",
    "    plt.show()\n",
    "\n",
    "\n",
    "    return coords"
   ]
  },
  {
   "cell_type": "code",
   "execution_count": 7,
   "metadata": {},
   "outputs": [],
   "source": [
    "def loadImages(path):\n",
    "    images = []\n",
    "    for i in range(1,19):\n",
    "        img = plt.imread(path+'/image'+str(i)+'.png')\n",
    "        img = img.astype('float')\n",
    "        # Converting the image to gray scale\n",
    "        R, G, B = img[:,:,0], img[:,:,1], img[:,:,2]\n",
    "        img = 0.2989 * R + 0.5870 * G + 0.1140 * B\n",
    "        img = scale(img, 800, 1000)\n",
    "        images.append(img)\n",
    "\n",
    "    return images"
   ]
  },
  {
   "cell_type": "code",
   "execution_count": 8,
   "metadata": {},
   "outputs": [],
   "source": [
    "images = loadImages('./images')"
   ]
  }
 ],
 "metadata": {
  "interpreter": {
   "hash": "fe294e6606534daba89c1dc14d4f5ef002211ec8430f3955bebe6e14ba2710b8"
  },
  "kernelspec": {
   "display_name": "Python 3.9.12 ('DL')",
   "language": "python",
   "name": "python3"
  },
  "language_info": {
   "codemirror_mode": {
    "name": "ipython",
    "version": 3
   },
   "file_extension": ".py",
   "mimetype": "text/x-python",
   "name": "python",
   "nbconvert_exporter": "python",
   "pygments_lexer": "ipython3",
   "version": "3.9.12"
  },
  "orig_nbformat": 4
 },
 "nbformat": 4,
 "nbformat_minor": 2
}
