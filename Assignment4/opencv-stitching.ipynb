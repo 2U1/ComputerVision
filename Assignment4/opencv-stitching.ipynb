{
 "cells": [
  {
   "cell_type": "markdown",
   "metadata": {},
   "source": [
    "2021021699 Yuwon Lee<br>\n",
    "2021021581 Jinha Lim<br>\n",
    "2021021580 Shinhye Lee"
   ]
  },
  {
   "cell_type": "code",
   "execution_count": 3,
   "metadata": {},
   "outputs": [],
   "source": [
    "import cv2\n",
    "import matplotlib.pyplot as plt\n",
    "import numpy as np\n",
    "import os"
   ]
  },
  {
   "cell_type": "markdown",
   "metadata": {},
   "source": [
    "Tried to Stitch images one by one, the quality significantly droped after linking more than 4 images"
   ]
  },
  {
   "cell_type": "code",
   "execution_count": 82,
   "metadata": {},
   "outputs": [],
   "source": [
    "path = '/home/prml/workspace/ComputerVision/ComputerVision/Assignment4'\n",
    "bf = cv2.BFMatcher()\n",
    "\n",
    "#Loading images from directory\n",
    "img_1 = cv2.imread('/home/prml/workspace/ComputerVision/ComputerVision/Assignment4/output09-12.png')\n",
    "img1 = cv2.cvtColor(img_1,cv2.COLOR_BGR2GRAY)\n",
    "\n",
    "img_2 = cv2.imread('/home/prml/workspace/ComputerVision/ComputerVision/Assignment4/output13-18.png')\n",
    "img2 = cv2.cvtColor(img_2,cv2.COLOR_BGR2GRAY)\n",
    "\n",
    "orb = cv2.ORB_create(\n",
    "    nfeatures=10000,\n",
    "    scaleFactor=1.2,\n",
    "    nlevels=8,\n",
    "    edgeThreshold=31,\n",
    "    firstLevel=0,\n",
    "    WTA_K=2,\n",
    "    scoreType=cv2.ORB_HARRIS_SCORE,\n",
    "    patchSize=31,\n",
    "    fastThreshold=20,\n",
    ")\n",
    "\n",
    "kp1, des1 = orb.detectAndCompute(img1,None)\n",
    "kp2, des2 = orb.detectAndCompute(img2,None)\n",
    "matches = bf.knnMatch(des1,des2, k=2)\n",
    "\n",
    "good = []\n",
    "for m in matches:\n",
    "    if (m[0].distance < 0.7*m[1].distance):\n",
    "        good.append(m)\n",
    "matches = np.asarray(good)\n",
    "\n",
    "if (len(matches[:,0]) >= 5):\n",
    "    src = np.float32([ kp1[m.queryIdx].pt for m in matches[:,0] ]).reshape(-1,1,2)\n",
    "    dst = np.float32([ kp2[m.trainIdx].pt for m in matches[:,0] ]).reshape(-1,1,2)\n",
    "    H, masked = cv2.findHomography(src, dst, cv2.RANSAC, 5.0)\n",
    "\n",
    "    dst = cv2.warpPerspective(img_1,H,((img_1.shape[1] + img_2.shape[1]), img_2.shape[0])) #wraped image\n",
    "    dst[0:img_2.shape[0], 0:img_2.shape[1]] = img_2 #stitched image\n",
    "    \n",
    "    #Cropping blank part of the stitched image\n",
    "    dst_gray = cv2.cvtColor(dst, cv2.COLOR_BGR2GRAY)\n",
    "    _, thresholded = cv2.threshold(dst_gray, 0, 255, cv2.THRESH_OTSU)\n",
    "    \n",
    "    bbox = cv2.boundingRect(thresholded)\n",
    "    x,y,w,h = bbox\n",
    "    \n",
    "    dst = dst[y:y+h, x:x+w]\n",
    "\n",
    "    cv2.imwrite('output09-18.png',dst)"
   ]
  },
  {
   "cell_type": "markdown",
   "metadata": {},
   "source": [
    "Tried Panorama function to automatically stitch all images"
   ]
  },
  {
   "cell_type": "code",
   "execution_count": null,
   "metadata": {},
   "outputs": [],
   "source": [
    "path = '/home/prml/workspace/ComputerVision/ComputerVision/Assignment4/images'\n",
    "images=[]\n",
    "img_input=[]\n",
    "\n",
    "#loading images from directory\n",
    "for root, directories, files in os.walk(path):\n",
    "    for file in files:\n",
    "        if '.png' in file:\n",
    "            img_input=cv2.imread(os.path.join(root,file))\n",
    "            images.append(img_input)\n",
    "\n",
    "#Used CV2 stitcher's panorama function\n",
    "stitcher = cv2.Stitcher.create(cv2.Stitcher_PANORAMA)\n",
    "status, pano = stitcher.stitch(images)\n",
    "\n",
    "if status != cv2.Stitcher_OK:\n",
    "    print(\"error\")\n",
    "    exit(-1)\n",
    "\n",
    "cv2.imwrite('output.jpg',pano)"
   ]
  }
 ],
 "metadata": {
  "interpreter": {
   "hash": "fe294e6606534daba89c1dc14d4f5ef002211ec8430f3955bebe6e14ba2710b8"
  },
  "kernelspec": {
   "display_name": "Python 3.9.12 ('DL')",
   "language": "python",
   "name": "python3"
  },
  "language_info": {
   "codemirror_mode": {
    "name": "ipython",
    "version": 3
   },
   "file_extension": ".py",
   "mimetype": "text/x-python",
   "name": "python",
   "nbconvert_exporter": "python",
   "pygments_lexer": "ipython3",
   "version": "3.9.12"
  },
  "orig_nbformat": 4
 },
 "nbformat": 4,
 "nbformat_minor": 2
}
