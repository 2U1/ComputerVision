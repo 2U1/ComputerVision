{
 "cells": [
  {
   "cell_type": "code",
   "execution_count": 32,
   "metadata": {},
   "outputs": [],
   "source": [
    "import matplotlib.pyplot as plt\n",
    "import matplotlib as mpl\n",
    "import time\n",
    "import numpy as np"
   ]
  },
  {
   "cell_type": "code",
   "execution_count": 33,
   "metadata": {},
   "outputs": [],
   "source": [
    "def gaussian2d(x,y,sigma):\n",
    "    x2 = x**2\n",
    "    y2 = y**2\n",
    "    sigma2 = sigma**2\n",
    "    return (1/(2*np.pi*sigma2))*np.exp(-1*((x2+y2)/(2*sigma2)))"
   ]
  },
  {
   "cell_type": "code",
   "execution_count": 38,
   "metadata": {},
   "outputs": [],
   "source": [
    "def get_gaussian_kernel(size, sigma=1.0):\n",
    "    if size % 2 == 0:\n",
    "        size += 1\n",
    "    aran = np.arange(-1 * (size // 2), size // 2 + 1)\n",
    "    XX, YY = np.meshgrid(aran, aran)\n",
    "    kernel = gaussian2d(XX, YY, sigma)\n",
    "    kernel = kernel/np.sum(kernel) # normalization\n",
    "    return kernel"
   ]
  },
  {
   "cell_type": "code",
   "execution_count": 37,
   "metadata": {},
   "outputs": [],
   "source": [
    "def filter(weights,roi):\n",
    "    weights = weights.astype('float')\n",
    "    roi = roi.astype('float')\n",
    "    # this holds the end result\n",
    "    filtered = np.zeros_like(roi)\n",
    "    width = int((weights.shape[1]-1)/2)\n",
    "    height = int((weights.shape[0]-1)/2)\n",
    "    for i in range(height,roi.shape[1]-height):\n",
    "        for j in range(width,roi.shape[0]-width):\n",
    "            filtered[j,i]= np.sum(weights * roi[j-width:j+width+1, i-height:i+height+1])\n",
    "    return filtered"
   ]
  },
  {
   "cell_type": "code",
   "execution_count": null,
   "metadata": {},
   "outputs": [],
   "source": [
    "def cornerDetec(img, winSize=7, type=0):\n",
    "    h, w = img.shape[:2]\n",
    "    filter_sobelx = np.array([\n",
    "    [-1, 0, 1],\n",
    "    [-2, 0, 2],\n",
    "    [-1, 0, 1]\n",
    "    ])\n",
    "    I_x=filter(1/8*filter_sobelx,img)\n",
    "\n",
    "    filter_sobely = np.array([\n",
    "        [1, 2, 1],\n",
    "        [0, 0, 0],\n",
    "        [-1, -2, -1]\n",
    "    ])\n",
    "    I_y=filter(1/8*filter_sobely,img)\n",
    "\n",
    "    g_kernel = get_gaussian_kernel(winSize)\n",
    "\n",
    "    # h_temp = np.zeors((h,w,2,2))\n",
    "    # h_temp[:, :, 0, 0] = np.square(I_x)\n",
    "    # h_temp[:, :, 0, 1] = I_x*I_y\n",
    "    # h_temp[:, :, 1, 0] = I_x*I_y\n",
    "    # h_temp[:, :, 1, 1] = np.square(I_y)\n",
    "    \n",
    "    H_01 = np.expand_dims(filter(I_x * I_y, g_kernel), -1)\n",
    "    H_00 = np.expand_dims(filter(I_y * I_y, g_kernel), -1)\n",
    "    H_11 = np.expand_dims(filter(I_x * I_x, g_kernel), -1)\n",
    "    H = np.concatenate([np.concatenate([H_00, H_01], -1), np.concatenate([H_01, H_11], -1)], 2)\n",
    "\n",
    "    corner_sterngth = np.zeros((h,w))\n",
    "\n",
    "    if type == 0:\n",
    "        pass\n",
    "\n",
    "    elif type == 1:\n",
    "        pass\n",
    "    \n",
    "    \n",
    "    \n",
    "    else:\n",
    "        raise ValueError(\"Need type: 1 or 2\")\n",
    "\n",
    "\n",
    "    return corner_sterngth"
   ]
  }
 ],
 "metadata": {
  "interpreter": {
   "hash": "fe294e6606534daba89c1dc14d4f5ef002211ec8430f3955bebe6e14ba2710b8"
  },
  "kernelspec": {
   "display_name": "Python 3.9.7 ('DL')",
   "language": "python",
   "name": "python3"
  },
  "language_info": {
   "codemirror_mode": {
    "name": "ipython",
    "version": 3
   },
   "file_extension": ".py",
   "mimetype": "text/x-python",
   "name": "python",
   "nbconvert_exporter": "python",
   "pygments_lexer": "ipython3",
   "version": "3.9.7"
  },
  "orig_nbformat": 4
 },
 "nbformat": 4,
 "nbformat_minor": 2
}
