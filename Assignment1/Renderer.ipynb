{
 "cells": [
  {
   "cell_type": "markdown",
   "metadata": {},
   "source": [
    "# Assginment1"
   ]
  },
  {
   "cell_type": "markdown",
   "metadata": {},
   "source": [
    "2021021699 Yuwon Lee<br>\n",
    "2021021581 Jinha Lim<br>\n",
    "2021021580 Shinhye Lee"
   ]
  },
  {
   "cell_type": "markdown",
   "metadata": {},
   "source": [
    "## Writing a renderer"
   ]
  },
  {
   "cell_type": "code",
   "execution_count": 1,
   "metadata": {},
   "outputs": [],
   "source": [
    "import matplotlib.pyplot as plt\n",
    "from mpl_toolkits.mplot3d import Axes3D\n",
    "from math import atan, sin, cos\n",
    "import numpy as np"
   ]
  },
  {
   "cell_type": "code",
   "execution_count": 2,
   "metadata": {},
   "outputs": [],
   "source": [
    "# Defining the functions from the pdf file\n",
    "# Nothing changed from pdf\n",
    "def show_3d(vertices, edges):\n",
    "    fig = plt.figure()\n",
    "    ax = fig.gca(projection='3d')\n",
    "    for edge in edges:\n",
    "        p1 = vertices[edge[0]]\n",
    "        p2 = vertices[edge[1]]\n",
    "        ax.plot([p1[0], p2[0]],\n",
    "                [p1[1], p2[1]],\n",
    "                [p1[2], p2[2]])\n",
    "    ax.set_ylim(-5, 5)\n",
    "    ax.set_xlim(-5, 5)\n",
    "    ax.set_zlim(-5, 5)\n",
    "    plt.show()\n",
    "\n",
    "def show_2d(vertices, edges, size):\n",
    "    fig = plt.figure()\n",
    "    ax = fig.gca()\n",
    "    for edge in edges:\n",
    "        p1 = vertices[edge[0]]\n",
    "        p2 = vertices[edge[1]]\n",
    "        ax.plot([p1[0], p2[0]],\n",
    "                [p1[1], p2[1]])\n",
    "    ax.set_ylim(0, size[0])\n",
    "    ax.set_xlim(0, size[1])\n",
    "    plt.show()"
   ]
  },
  {
   "cell_type": "markdown",
   "metadata": {},
   "source": [
    "- Converting to homogeneous coordinates\n",
    "\n",
    "$(x,y) \\rightarrow  \\begin{bmatrix} x \\\\ y \\\\ 1 \\end{bmatrix}$ &emsp;&emsp;&emsp; $(x,y,z) \\rightarrow \\begin{bmatrix} x \\\\ y \\\\ z \\\\ 1  \\end{bmatrix}$"
   ]
  },
  {
   "cell_type": "markdown",
   "metadata": {},
   "source": [
    "- Converting from homogeneous coordinates to standard 2D/3D\n",
    "\n",
    "$\\begin{bmatrix} x \\\\ y \\\\ w \\end{bmatrix} \\rightarrow (x/w, y/w)$ &emsp;&emsp;&emsp; $\\begin{bmatrix} x \\\\ y \\\\ z \\\\ w  \\end{bmatrix} \\rightarrow (x/w, y/w, z/w)$"
   ]
  },
  {
   "cell_type": "code",
   "execution_count": 3,
   "metadata": {},
   "outputs": [],
   "source": [
    "# Defining the conversion function for homogeneous to orthogonal coordinates and the reverse one\n",
    "def to_homogeneous(coords):\n",
    "    # Converting to homogeneous function is adding an additional column that value is 1 for the point\n",
    "    h_coord = []\n",
    "    \n",
    "    # Adding another column via for loop\n",
    "    for c in coords:\n",
    "        c = np.append(c,np.array([1]))\n",
    "        h_coord.append(c)\n",
    "\n",
    "    return np.array(h_coord)\n",
    "\n",
    "def from_homogeneous(coords):\n",
    "    # Converting from the homogenous coordinate system need to be separated of case that is 2D and 3D\n",
    "    w_coord = []\n",
    "    for c in coords:\n",
    "        # If the coordinate length is 4 then it needed to be converted to 3D coordinate. From the solutiuon in the pdf file, divide all three \n",
    "        # value with the last value\n",
    "        if c.shape[0] == 4:\n",
    "            c = c/c[3]\n",
    "            c = c[:3]\n",
    "\n",
    "            w_coord.append(c)\n",
    "\n",
    "        # Just same as 3d point but, executing with only 2 values\n",
    "        else:\n",
    "            c = c/c[2]\n",
    "            c = c[:2]\n",
    "\n",
    "            w_coord.append(c)\n",
    "\n",
    "    return np.array(w_coord)"
   ]
  },
  {
   "cell_type": "markdown",
   "metadata": {},
   "source": [
    "- Rotation matrix\n",
    "\n",
    "$R = \\begin{bmatrix} \\cos\\theta + {u_x}^2(1-\\cos\\theta) & u_xu_y(1-\\cos\\theta) - u_z\\sin\\theta & u_xu_z(1-\\cos\\theta) + u_y\\sin\\theta \\\\ u_yu_x(1-\\cos\\theta) + u_z\\sin\\theta & \\cos\\theta + {u_y}^2(1-\\cos\\theta) & uyxu_z(1-\\cos\\theta) - u_x\\sin\\theta \\\\ u_zu_x(1-\\cos\\theta) - u_y\\sin\\theta & u_zu_y(1-\\cos\\theta) + u_x\\sin\\theta & \\cos\\theta + {u_z}^2(1-\\cos\\theta)\\end{bmatrix}$<br><br>\n",
    "&emsp;&emsp;\\*$u$ is a axis vector of $\\sqrt{{u_x}^2 + {u_y}^2 + {u_z}^2}=1$"
   ]
  },
  {
   "cell_type": "code",
   "execution_count": 4,
   "metadata": {},
   "outputs": [],
   "source": [
    "def create_rotation(u, theta):\n",
    "    # Creating the rotation matrix from the pdf file\n",
    "    rotation_matrix = np.eye(4) # Creating a matrix concept of placeholder\n",
    "\n",
    "    rotation_matrix[0][0] = cos(theta) + u[0]**2*(1-cos(theta))\n",
    "    rotation_matrix[0][1] = u[0]*u[1]*(1-cos(theta)) - u[2]*sin(theta)\n",
    "    rotation_matrix[0][2] = u[0]*u[2]*(1-cos(theta)) + u[1]*sin(theta)\n",
    "    rotation_matrix[1][0] = u[1]*u[0]*(1-cos(theta)) + u[2]*sin(theta)\n",
    "    rotation_matrix[1][1] = cos(theta) + u[1]**2*(1-cos(theta))\n",
    "    rotation_matrix[1][2] = u[1]*u[2]*(1-cos(theta)) - u[0]*sin(theta)\n",
    "    rotation_matrix[2][0] = u[2]*u[0]*(1-cos(theta)) - u[1]*sin(theta)\n",
    "    rotation_matrix[2][1] = u[2]*u[1]*(1-cos(theta)) + u[0]*sin(theta)\n",
    "    rotation_matrix[2][2] = cos(theta) + u[2]**2*(1-cos(theta))\n",
    "\n",
    "    return rotation_matrix"
   ]
  },
  {
   "cell_type": "markdown",
   "metadata": {},
   "source": [
    "#### Translation matrix via homogeneous coordinate\n",
    "- 2D\n",
    "\n",
    "$T = \\begin{bmatrix}1 & 0 & t_1 \\\\0 & 1 & t_2 \\\\0 & 0 & 1\\end{bmatrix}$\n",
    "- 3D\n",
    "\n",
    "$T = \\begin{bmatrix}1 & 0 & 0 & t_1 \\\\0 & 1 & 0 & t_2 \\\\0 & 0 & 1 & t_3 \\\\0 & 0 & 0 & 1\\end{bmatrix}$ "
   ]
  },
  {
   "cell_type": "code",
   "execution_count": 5,
   "metadata": {},
   "outputs": [],
   "source": [
    "def create_translation(translate):\n",
    "    # Creating the translation matrix\n",
    "    translation_matrix = np.eye(4)  # Creating a matrix concept of placeholder\n",
    "    translation_matrix[0][3] = translate[0]\n",
    "    translation_matrix[1][3] = translate[1]\n",
    "    translation_matrix[2][3] = translate[2]\n",
    "\n",
    "    return translation_matrix"
   ]
  },
  {
   "cell_type": "markdown",
   "metadata": {},
   "source": [
    "#### Getting Extrinsics matrix<br>\n",
    "- step1: Translate by -c \n",
    "- step2: Rotate by R\n",
    "     * First rotate by x-axis then y and then z"
   ]
  },
  {
   "cell_type": "code",
   "execution_count": 6,
   "metadata": {},
   "outputs": [],
   "source": [
    "def get_extrinsic_matrix(position, orientation):\n",
    "    # Creating a extrinsic matrix    \n",
    "    angle_x = orientation[0]\n",
    "    angle_y = orientation[1]\n",
    "    angle_z = orientation[2]\n",
    "    R_x = create_rotation([1,0,0], angle_x)\n",
    "    R_y = create_rotation([0,1,0], angle_y)\n",
    "    R_z = create_rotation([0,0,1], angle_z)\n",
    "\n",
    "    trainslation_matrix = create_translation(-position)\n",
    "\n",
    "    # Rotation is order of x, y, z so it need to be multiplied in the order of rotaion maxtrix z, y, x\n",
    "    rotation_matrix = R_z @ R_y @ R_x\n",
    "\n",
    "    # Lastly the points are rotaed and then traslated, so it needed to be in the right order \n",
    "    extrinsic_matrix = trainslation_matrix @ rotation_matrix\n",
    "\n",
    "    return extrinsic_matrix"
   ]
  },
  {
   "cell_type": "markdown",
   "metadata": {},
   "source": [
    "#### Getting Intrinsics matrix\n",
    "$K = \\begin{bmatrix}f & 0 & s_x \\\\0 & f & s_y \\\\0 & 0 & 1\\end{bmatrix}$<br>\n",
    "\\* given in the assignment file\n",
    "<br><br>\n",
    "\n",
    "#### Full intrinsic matrix ($K*P$)\n",
    "\n",
    "$K*\\begin{bmatrix}1&0&0&0\\\\0&1&0&0\\\\0&0&1&0\\end{bmatrix}$"
   ]
  },
  {
   "cell_type": "code",
   "execution_count": 7,
   "metadata": {},
   "outputs": [],
   "source": [
    "def get_instrinsic_matrix(f, s):\n",
    "    # Creating a intrinsic matrix\n",
    "    k = np.eye(3) # Creating a matrix concept of placeholder\n",
    "    # Setting the values from the pdf file\n",
    "    k[0][0] = f\n",
    "    k[0][2] = s[0]\n",
    "    k[1][1] = f\n",
    "    k[1][2] = s[1]\n",
    "\n",
    "    # Creating the projection matrix, from the class material\n",
    "    projection_matrix = np.c_[np.eye(3), np.zeros(3)]\n",
    "\n",
    "    # The full intrinsic matrix is created via multiplying the intrinsics matrix and the projection matrix\n",
    "    full_instrinsic = k @ projection_matrix\n",
    "\n",
    "    return full_instrinsic"
   ]
  },
  {
   "cell_type": "code",
   "execution_count": 8,
   "metadata": {},
   "outputs": [],
   "source": [
    "# Defining the points that are given from the assignment file\n",
    "corners = np.array([[-1, -1, -1], # point 0\n",
    "                    [1, -1, -1 ], # point 1\n",
    "                    [1, 1, -1], # point 2\n",
    "                    [-1, 1, -1], # point 3\n",
    "                    [-1, -1, 1], # point 4\n",
    "                    [1, -1, 1 ], # point 5\n",
    "                    [1, 1, 1], # point 6\n",
    "                    [-1, 1, 1]]) # point 7\n",
    "\n",
    "# Defining the edges that are connected to corner \n",
    "edges = np.array([(0,1), (0,3), (1,2), (2,3), (4,5), (4,7), (5,6), (6,7), (1,5), (2,6), (3,7), (0,4)])\n",
    "\n",
    "# Defining the values that are given from the assignment file\n",
    "camera_position = np.array([0, 0, -2.5])\n",
    "camera_orientation = np.array([0, 0.1, 0])\n",
    "f = 0.4\n",
    "s = np.array([0.51, 0.49])"
   ]
  },
  {
   "cell_type": "code",
   "execution_count": 9,
   "metadata": {},
   "outputs": [
    {
     "name": "stderr",
     "output_type": "stream",
     "text": [
      "/tmp/ipykernel_706/1168557974.py:5: MatplotlibDeprecationWarning: Calling gca() with keyword arguments was deprecated in Matplotlib 3.4. Starting two minor releases later, gca() will take no keyword arguments. The gca() function should only be used to get the current axes, or if no axes exist, create new axes with default keyword arguments. To create a new axes with non-default arguments, use plt.axes() or plt.subplot().\n",
      "  ax = fig.gca(projection='3d')\n"
     ]
    },
    {
     "data": {
      "image/png": "[encoded data removed]",
      "text/plain": [
       "<Figure size 432x288 with 1 Axes>"
      ]
     },
     "metadata": {
      "needs_background": "light"
     },
     "output_type": "display_data"
    }
   ],
   "source": [
    "show_3d(corners, edges)"
   ]
  },
  {
   "cell_type": "code",
   "execution_count": 10,
   "metadata": {},
   "outputs": [],
   "source": [
    "homogeneous_coord = to_homogeneous(corners) # Chaning the corner points to homogeneous coordination\n",
    "extrinsic_matrix = get_extrinsic_matrix(camera_position, camera_orientation) # Creating the extrinsic matrix with the values that are given from the assignment file"
   ]
  },
  {
   "cell_type": "code",
   "execution_count": 11,
   "metadata": {},
   "outputs": [],
   "source": [
    "homogeneous_corners = []\n",
    "\n",
    "# Converting to camera coordinate system via multiplying the extrinsic matrix and the homogeneous coordinates\n",
    "for h in homogeneous_coord:\n",
    "    temp = extrinsic_matrix @ h\n",
    "    homogeneous_corners.append(temp)\n",
    "\n",
    "homogeneous_corners = np.array(homogeneous_corners)\n",
    "c_coords = from_homogeneous(homogeneous_corners)    # converting the homogeneous coordinates to noraml coordinates"
   ]
  },
  {
   "cell_type": "code",
   "execution_count": 12,
   "metadata": {},
   "outputs": [
    {
     "name": "stderr",
     "output_type": "stream",
     "text": [
      "/tmp/ipykernel_706/1168557974.py:5: MatplotlibDeprecationWarning: Calling gca() with keyword arguments was deprecated in Matplotlib 3.4. Starting two minor releases later, gca() will take no keyword arguments. The gca() function should only be used to get the current axes, or if no axes exist, create new axes with default keyword arguments. To create a new axes with non-default arguments, use plt.axes() or plt.subplot().\n",
      "  ax = fig.gca(projection='3d')\n"
     ]
    },
    {
     "data": {
      "image/png": "[encoded data removed]",
      "text/plain": [
       "<Figure size 432x288 with 1 Axes>"
      ]
     },
     "metadata": {
      "needs_background": "light"
     },
     "output_type": "display_data"
    }
   ],
   "source": [
    "show_3d(c_coords, edges)"
   ]
  },
  {
   "cell_type": "code",
   "execution_count": 13,
   "metadata": {},
   "outputs": [],
   "source": [
    "homogeneous_coord = to_homogeneous(corners) # Chaning the corner points to homogeneous coordination\n",
    "extrinsic_matrix = get_extrinsic_matrix(camera_position, camera_orientation) # Creating the extrinsic matrix with the values that are given from the assignment file\n",
    "instrinsic_matrix = get_instrinsic_matrix(f, s) # creating the instrinsic matrix"
   ]
  },
  {
   "cell_type": "code",
   "execution_count": 14,
   "metadata": {},
   "outputs": [],
   "source": [
    "homogeneous_corners = []\n",
    "\n",
    "# Creating the pixel coordinates that are projected\n",
    "for h in homogeneous_coord:\n",
    "    temp = instrinsic_matrix @ extrinsic_matrix @ h\n",
    "    homogeneous_corners.append(temp)\n",
    "\n",
    "homogeneous_corners = np.array(homogeneous_corners)\n",
    "p_coords = from_homogeneous(homogeneous_corners)"
   ]
  },
  {
   "cell_type": "code",
   "execution_count": 15,
   "metadata": {},
   "outputs": [],
   "source": [
    "# from the condition from the assginment file should multiply 200\n",
    "p_coords = p_coords * 200"
   ]
  },
  {
   "cell_type": "code",
   "execution_count": 16,
   "metadata": {},
   "outputs": [
    {
     "data": {
      "image/png": "[encoded data removed]",
      "text/plain": [
       "<Figure size 432x288 with 1 Axes>"
      ]
     },
     "metadata": {
      "needs_background": "light"
     },
     "output_type": "display_data"
    }
   ],
   "source": [
    "show_2d(p_coords, edges, size=(200, 200))"
   ]
  }
 ],
 "metadata": {
  "interpreter": {
   "hash": "fe294e6606534daba89c1dc14d4f5ef002211ec8430f3955bebe6e14ba2710b8"
  },
  "kernelspec": {
   "display_name": "Python 3.9.7 ('DL')",
   "language": "python",
   "name": "python3"
  },
  "language_info": {
   "codemirror_mode": {
    "name": "ipython",
    "version": 3
   },
   "file_extension": ".py",
   "mimetype": "text/x-python",
   "name": "python",
   "nbconvert_exporter": "python",
   "pygments_lexer": "ipython3",
   "version": "3.9.7"
  },
  "orig_nbformat": 4
 },
 "nbformat": 4,
 "nbformat_minor": 2
}
