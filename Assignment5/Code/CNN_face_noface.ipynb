{
 "cells": [
  {
   "cell_type": "code",
   "execution_count": 1,
   "id": "incomplete-integral",
   "metadata": {},
   "outputs": [],
   "source": [
    "import torch\n",
    "import torchvision\n",
    "import torchvision.transforms as transforms\n",
    "import matplotlib.pyplot as plt\n",
    "import numpy as np\n",
    "import torch.nn as nn\n",
    "import torch.nn.functional as F\n",
    "import torch.optim as optim\n",
    "import pickle\n",
    "import torch.utils.data as data\n",
    "import random\n",
    "import time\n",
    "from tqdm import tqdm\n",
    "import math"
   ]
  },
  {
   "cell_type": "code",
   "execution_count": 22,
   "id": "93049b86",
   "metadata": {},
   "outputs": [],
   "source": [
    "def unflatten_image(image_list):\n",
    "    new_list = []\n",
    "    for image in image_list:\n",
    "        new_list.append(image.reshape(1,32,32))\n",
    "\n",
    "    return np.array(new_list, dtype=np.float64)"
   ]
  },
  {
   "cell_type": "code",
   "execution_count": 23,
   "id": "ad6c8544",
   "metadata": {},
   "outputs": [],
   "source": [
    "def load_pickle(path):\n",
    "    with open(path, 'rb') as fo:\n",
    "        data = pickle.load(fo)\n",
    "\n",
    "    data = unflatten_image(data)\n",
    "    return data"
   ]
  },
  {
   "cell_type": "code",
   "execution_count": 24,
   "id": "3a0e763c",
   "metadata": {},
   "outputs": [],
   "source": [
    "face = load_pickle('../data/faces_python.pkl')\n",
    "non_face = load_pickle('../data/nonfaces_python.pkl')\n",
    "face_label = np.ones(face.shape[0],dtype=np.int64)\n",
    "non_face_label = np.zeros(non_face.shape[0], dtype=np.int64)"
   ]
  },
  {
   "cell_type": "code",
   "execution_count": 25,
   "id": "f0c20a63",
   "metadata": {},
   "outputs": [],
   "source": [
    "# I changed the ratio to 0.8, because I think the training dataset need a larger portion\n",
    "train_test_ratio = 0.8\n",
    "\n",
    "tmp1 = np.round(face.shape[0]*train_test_ratio).astype(int)\n",
    "\n",
    "train_face_label = face_label[:tmp1]\n",
    "test_face_label = face_label[tmp1:]\n",
    "train_face = face[:tmp1,:,:]\n",
    "test_face = face[tmp1:,:,:]\n",
    "\n",
    "# Randomly sampling the non-face data \n",
    "random.seed(42)\n",
    "sample_idx = random.sample(range(len(non_face)), len(face))\n",
    "new_non_face = []\n",
    "new_non_face_label = []\n",
    "for idx in sample_idx:\n",
    "    new_non_face.append(non_face[idx,:,:])\n",
    "    new_non_face_label.append(non_face_label[idx])\n",
    "new_non_face = np.array(new_non_face)\n",
    "new_non_face_label = np.array(new_non_face_label)\n",
    "\n",
    "\n",
    "tmp2 = np.round(new_non_face.shape[0]*train_test_ratio).astype(int)\n",
    "\n",
    "train_non_face_label = new_non_face_label[:tmp2]\n",
    "test_non_face_label = new_non_face_label[tmp2:]\n",
    "train_non_face = new_non_face[:tmp2,:,:]\n",
    "test_non_face = new_non_face[tmp2:,:,:]\n",
    "\n",
    "\n",
    "train_image = np.concatenate((train_face, train_non_face), axis=0)\n",
    "train_label = np.concatenate((train_face_label, train_non_face_label), axis=0)\n",
    "\n",
    "test_image = np.concatenate((test_face, test_non_face), axis=0)\n",
    "test_label = np.concatenate((test_face_label, test_non_face_label), axis=0)"
   ]
  },
  {
   "cell_type": "code",
   "execution_count": 26,
   "id": "38f7a75e",
   "metadata": {},
   "outputs": [],
   "source": [
    "class FaceDataset(data.Dataset):\n",
    "    def __init__(self, image_list, label_list):\n",
    "        self.images = image_list\n",
    "        self.labels = label_list\n",
    "\n",
    "    def __len__(self):\n",
    "        return len(self.images)\n",
    "\n",
    "    def __getitem__(self, index):\n",
    "        img = self.images[index]\n",
    "        label = self.labels[index]\n",
    "\n",
    "\n",
    "        return img, label"
   ]
  },
  {
   "cell_type": "code",
   "execution_count": 27,
   "id": "7ff5508b",
   "metadata": {},
   "outputs": [],
   "source": [
    "train_dataset = FaceDataset(train_image, train_label)\n",
    "test_dataset = FaceDataset(test_image, test_image)"
   ]
  },
  {
   "cell_type": "code",
   "execution_count": 28,
   "id": "071d1a14",
   "metadata": {},
   "outputs": [],
   "source": [
    "batch_size = 128\n",
    "\n",
    "train_dataloader = torch.utils.data.DataLoader(train_dataset, batch_size, shuffle=True)\n",
    "test_dataloader = torch.utils.data.DataLoader(test_dataset, batch_size, shuffle=False)\n",
    "\n",
    "classes = ('non-face', 'face')"
   ]
  },
  {
   "cell_type": "code",
   "execution_count": 29,
   "id": "9dc29c30",
   "metadata": {},
   "outputs": [
    {
     "name": "stdout",
     "output_type": "stream",
     "text": [
      "torch.Size([128, 1, 32, 32])\n",
      "tensor([1, 0, 0, 0, 1, 0, 1, 1, 0, 1, 0, 0, 1, 0, 1, 1, 0, 0, 1, 1, 1, 0, 1, 0,\n",
      "        0, 1, 1, 0, 0, 1, 0, 0, 0, 0, 1, 1, 1, 1, 0, 0, 0, 0, 1, 1, 0, 1, 0, 0,\n",
      "        0, 0, 1, 0, 0, 1, 0, 1, 0, 0, 0, 0, 0, 1, 1, 0, 0, 0, 1, 1, 1, 1, 0, 0,\n",
      "        0, 0, 0, 1, 0, 1, 0, 1, 1, 0, 1, 1, 0, 0, 1, 0, 1, 1, 0, 0, 0, 0, 1, 0,\n",
      "        0, 1, 1, 1, 1, 1, 0, 1, 1, 1, 1, 0, 0, 1, 1, 0, 0, 1, 0, 1, 1, 0, 0, 1,\n",
      "        1, 0, 1, 1, 1, 1, 1, 0])\n"
     ]
    }
   ],
   "source": [
    "batch_iterator = iter(train_dataloader)\n",
    "inputs, label = next(batch_iterator)\n",
    "print(inputs.size())\n",
    "print(label)"
   ]
  },
  {
   "cell_type": "code",
   "execution_count": 30,
   "id": "designing-briefs",
   "metadata": {},
   "outputs": [],
   "source": [
    "def make_layers(cfg, size):\n",
    "    layers = []\n",
    "    in_channels = 1\n",
    "\n",
    "    for v in cfg:\n",
    "        if v == 'M':\n",
    "            layers += [nn.MaxPool2d(kernel_size=2, stride=2)]\n",
    "        else:\n",
    "            conv2d = nn.Conv2d(in_channels, v, kernel_size=size, padding=1)\n",
    "            layers += [conv2d, nn.ReLU(inplace=True)]\n",
    "            in_channels = v\n",
    "\n",
    "    return nn.Sequential(*layers)\n",
    "\n",
    "def make_ffn(cfg, size):\n",
    "    input_size = 32\n",
    "    channel_size = cfg[0]\n",
    "    \n",
    "    for v in cfg:\n",
    "        if v == 'M':\n",
    "            input_size = math.floor(input_size/2)\n",
    "\n",
    "        else:\n",
    "            input_size = math.floor(input_size-size+3)\n",
    "\n",
    "    return nn.Linear(channel_size * input_size * input_size, 2)\n",
    "\n",
    "class CNN(nn.Module):\n",
    "    def __init__(self, cfg, size):\n",
    "        super().__init__()\n",
    "        self.features = make_layers(cfg, size)\n",
    "        self.fc_layer = make_ffn(cfg, size)\n",
    "\n",
    "    def forward(self, x):\n",
    "        x = self.features(x)\n",
    "        x = x.view(x.size(0), -1)\n",
    "        x = self.fc_layer(x)\n",
    "        return x\n",
    "    "
   ]
  },
  {
   "cell_type": "code",
   "execution_count": 47,
   "id": "8e37de21",
   "metadata": {},
   "outputs": [],
   "source": [
    "def train_model(net, train_loader, criterion, optimizer, num_epochs):\n",
    "    \n",
    "    device = torch.device(\"cuda:0\" if torch.cuda.is_available() else \"cpu\")\n",
    "    \n",
    "    net.to(device)\n",
    "    \n",
    "    loss_arr = []\n",
    "    start = time.time()\n",
    "    net.train()\n",
    "    \n",
    "    for epoch in range(num_epochs):\n",
    "        # print('Epoch {}/{}'.format(epoch+1, num_epochs))\n",
    "        # print('--------------------')\n",
    "\n",
    "        epoch_loss = 0.0\n",
    "        \n",
    "        for data, target in train_loader:\n",
    "            data, target = data.to(device).float(), target.to(device)\n",
    "            optimizer.zero_grad()\n",
    "            output = net(data)\n",
    "            loss = criterion(output, target)\n",
    "            loss.backward()\n",
    "            optimizer.step()\n",
    "\n",
    "            epoch_loss += loss.item() * data.size(0)\n",
    "    \n",
    "        # print('Loss: {:.4f}'.format(epoch_loss))\n",
    "        epoch_loss = epoch_loss / len(train_loader.dataset)\n",
    "        loss_arr.append(epoch_loss)\n",
    "\n",
    "    training_time = time.time() - start\n",
    "\n",
    "\n",
    "    return loss_arr, training_time"
   ]
  },
  {
   "cell_type": "code",
   "execution_count": 49,
   "id": "ca3f0d6a",
   "metadata": {},
   "outputs": [],
   "source": [
    "def evaluate(net, test_loader):\n",
    "\n",
    "    device = torch.device(\"cuda:0\" if torch.cuda.is_available() else \"cpu\")\n",
    "    \n",
    "    net.to(device)\n",
    "    net.eval()\n",
    "    \n",
    "    correct = 0\n",
    "    with torch.no_grad():\n",
    "        for data, target in test_loader:\n",
    "            data, target = data.to(device).float(), target.to(device)\n",
    "            output = net(data)\n",
    "\n",
    "            preds = output.max(1, keepdim=True)[1]\n",
    "            \n",
    "            correct += preds.eq(target.view_as(preds)).sum().item()\n",
    "\n",
    "    acc = correct / len(test_loader.dataset) * 100\n",
    "    print(\"Accuracy of Test Data: {}%\".format(acc))"
   ]
  },
  {
   "cell_type": "code",
   "execution_count": 44,
   "id": "f165e1de",
   "metadata": {},
   "outputs": [],
   "source": [
    "def experiment():\n",
    "    cfgs = [\n",
    "    [8, 'M', 8, 'M'],\n",
    "    [8, 8, 'M', 8, 'M'],\n",
    "    [8, 8, 'M', 8, 8 ,'M'],\n",
    "    [16, 'M', 16, 'M'],\n",
    "    [16, 16, 'M', 16, 'M'],\n",
    "    [16, 16, 'M', 16, 16,'M']\n",
    "    ]\n",
    "\n",
    "    for size in [3,5]:\n",
    "        for num, cfg in enumerate(cfgs):\n",
    "            channel = cfg[0]\n",
    "            \n",
    "            if num in [0,3]:\n",
    "                layer = 2\n",
    "            elif num in [1,4]:\n",
    "                layer = 3\n",
    "            else:\n",
    "                layer = 4\n",
    "            \n",
    "            net = CNN(cfg, size)\n",
    "            criterion = nn.CrossEntropyLoss()\n",
    "            optimizer = optim.SGD(net.parameters(), lr = 1e-3, momentum=0.9)\n",
    "\n",
    "            train_loss, training_time = train_model(net, train_dataloader, criterion, optimizer, 10)\n",
    "            \n",
    "            plt.plot(np.array(train_loss), 'r')\n",
    "            plt.xlabel('Epochs')\n",
    "            plt.ylabel('Loss')\n",
    "\n",
    "            plt.title('Layer: {}, Filter: {}, Size: {}, Time:{:.2f}'.format(layer, channel, size, training_time))\n",
    "\n",
    "            evaluate(net, test_dataloader)"
   ]
  },
  {
   "cell_type": "code",
   "execution_count": 50,
   "id": "c578dff5",
   "metadata": {},
   "outputs": [
    {
     "ename": "RuntimeError",
     "evalue": "shape '[128, 1]' is invalid for input of size 131072",
     "output_type": "error",
     "traceback": [
      "\u001b[0;31m---------------------------------------------------------------------------\u001b[0m",
      "\u001b[0;31mRuntimeError\u001b[0m                              Traceback (most recent call last)",
      "\u001b[1;32m/home/yuwon/PythonProject/CV/Assignment5/Code/CNN_face_noface.ipynb Cell 14'\u001b[0m in \u001b[0;36m<cell line: 1>\u001b[0;34m()\u001b[0m\n\u001b[0;32m----> <a href='vscode-notebook-cell://wsl%2Bubuntu/home/yuwon/PythonProject/CV/Assignment5/Code/CNN_face_noface.ipynb#ch0000039vscode-remote?line=0'>1</a>\u001b[0m experiment()\n",
      "\u001b[1;32m/home/yuwon/PythonProject/CV/Assignment5/Code/CNN_face_noface.ipynb Cell 13'\u001b[0m in \u001b[0;36mexperiment\u001b[0;34m()\u001b[0m\n\u001b[1;32m     <a href='vscode-notebook-cell://wsl%2Bubuntu/home/yuwon/PythonProject/CV/Assignment5/Code/CNN_face_noface.ipynb#ch0000034vscode-remote?line=29'>30</a>\u001b[0m plt\u001b[39m.\u001b[39mylabel(\u001b[39m'\u001b[39m\u001b[39mLoss\u001b[39m\u001b[39m'\u001b[39m)\n\u001b[1;32m     <a href='vscode-notebook-cell://wsl%2Bubuntu/home/yuwon/PythonProject/CV/Assignment5/Code/CNN_face_noface.ipynb#ch0000034vscode-remote?line=31'>32</a>\u001b[0m plt\u001b[39m.\u001b[39mtitle(\u001b[39m'\u001b[39m\u001b[39mLayer: \u001b[39m\u001b[39m{}\u001b[39;00m\u001b[39m, Filter: \u001b[39m\u001b[39m{}\u001b[39;00m\u001b[39m, Size: \u001b[39m\u001b[39m{}\u001b[39;00m\u001b[39m, Time:\u001b[39m\u001b[39m{:.2f}\u001b[39;00m\u001b[39m'\u001b[39m\u001b[39m.\u001b[39mformat(layer, channel, size, training_time))\n\u001b[0;32m---> <a href='vscode-notebook-cell://wsl%2Bubuntu/home/yuwon/PythonProject/CV/Assignment5/Code/CNN_face_noface.ipynb#ch0000034vscode-remote?line=33'>34</a>\u001b[0m evaluate(net, test_dataloader)\n",
      "\u001b[1;32m/home/yuwon/PythonProject/CV/Assignment5/Code/CNN_face_noface.ipynb Cell 12'\u001b[0m in \u001b[0;36mevaluate\u001b[0;34m(net, test_loader)\u001b[0m\n\u001b[1;32m     <a href='vscode-notebook-cell://wsl%2Bubuntu/home/yuwon/PythonProject/CV/Assignment5/Code/CNN_face_noface.ipynb#ch0000031vscode-remote?line=11'>12</a>\u001b[0m         output \u001b[39m=\u001b[39m net(data)\n\u001b[1;32m     <a href='vscode-notebook-cell://wsl%2Bubuntu/home/yuwon/PythonProject/CV/Assignment5/Code/CNN_face_noface.ipynb#ch0000031vscode-remote?line=13'>14</a>\u001b[0m         preds \u001b[39m=\u001b[39m output\u001b[39m.\u001b[39mmax(\u001b[39m1\u001b[39m, keepdim\u001b[39m=\u001b[39m\u001b[39mTrue\u001b[39;00m)[\u001b[39m1\u001b[39m]\n\u001b[0;32m---> <a href='vscode-notebook-cell://wsl%2Bubuntu/home/yuwon/PythonProject/CV/Assignment5/Code/CNN_face_noface.ipynb#ch0000031vscode-remote?line=15'>16</a>\u001b[0m         correct \u001b[39m+\u001b[39m\u001b[39m=\u001b[39m preds\u001b[39m.\u001b[39meq(target\u001b[39m.\u001b[39;49mview_as(preds))\u001b[39m.\u001b[39msum()\u001b[39m.\u001b[39mitem()\n\u001b[1;32m     <a href='vscode-notebook-cell://wsl%2Bubuntu/home/yuwon/PythonProject/CV/Assignment5/Code/CNN_face_noface.ipynb#ch0000031vscode-remote?line=17'>18</a>\u001b[0m acc \u001b[39m=\u001b[39m correct \u001b[39m/\u001b[39m \u001b[39mlen\u001b[39m(test_loader\u001b[39m.\u001b[39mdataset) \u001b[39m*\u001b[39m \u001b[39m100\u001b[39m\n\u001b[1;32m     <a href='vscode-notebook-cell://wsl%2Bubuntu/home/yuwon/PythonProject/CV/Assignment5/Code/CNN_face_noface.ipynb#ch0000031vscode-remote?line=18'>19</a>\u001b[0m \u001b[39mprint\u001b[39m(\u001b[39m\"\u001b[39m\u001b[39mAccuracy of Test Data: \u001b[39m\u001b[39m{}\u001b[39;00m\u001b[39m%\u001b[39m\u001b[39m\"\u001b[39m\u001b[39m.\u001b[39mformat(acc))\n",
      "\u001b[0;31mRuntimeError\u001b[0m: shape '[128, 1]' is invalid for input of size 131072"
     ]
    },
    {
     "data": {
      "image/png": "[encoded data removed]",
      "text/plain": [
       "<Figure size 432x288 with 1 Axes>"
      ]
     },
     "metadata": {
      "needs_background": "light"
     },
     "output_type": "display_data"
    }
   ],
   "source": [
    "experiment()"
   ]
  }
 ],
 "metadata": {
  "interpreter": {
   "hash": "fe294e6606534daba89c1dc14d4f5ef002211ec8430f3955bebe6e14ba2710b8"
  },
  "kernelspec": {
   "display_name": "Python 3.9.12 ('DL')",
   "language": "python",
   "name": "python3"
  },
  "language_info": {
   "codemirror_mode": {
    "name": "ipython",
    "version": 3
   },
   "file_extension": ".py",
   "mimetype": "text/x-python",
   "name": "python",
   "nbconvert_exporter": "python",
   "pygments_lexer": "ipython3",
   "version": "3.9.12"
  }
 },
 "nbformat": 4,
 "nbformat_minor": 5
}
